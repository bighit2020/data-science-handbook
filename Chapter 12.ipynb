{
 "cells": [
  {
   "cell_type": "markdown",
   "metadata": {},
   "source": [
    "# 12장"
   ]
  },
  {
   "cell_type": "markdown",
   "metadata": {},
   "source": [
    "# 12.4"
   ]
  },
  {
   "cell_type": "code",
   "execution_count": 1,
   "metadata": {},
   "outputs": [],
   "source": [
    "import xml.etree.ElementTree as ET\n",
    "xml_str = \"\"\"\n",
    "<data>\n",
    "    <country name=\"Liechtenstein\">\n",
    "        <rank>1</rank>\n",
    "        <year>2008</year>\n",
    "        <gdppc>141100</gdppc>\n",
    "        <neighbor name=\"Austria\" direction=\"E\"/>\n",
    "        <neighbor name=\"Switzerland\" direction=\"W\"/>\n",
    "    </country>\n",
    "    <country name=\"Singapore\">\n",
    "        <rank>4</rank>\n",
    "        <year>2011</year>\n",
    "        <gdppc>59900</gdppc>\n",
    "        <neighbor name=\"Malaysia\" direction=\"N\"/>\n",
    "    </country>\n",
    "    <country name=\"Panama\">\n",
    "        <rank>68</rank>\n",
    "        <year>2011</year>\n",
    "        <gdppc>13600</gdppc>\n",
    "        <neighbor name=\"Costa Rica\" direction=\"W\"/>\n",
    "        <neighbor name=\"Colombia\" direction=\"E\"/>\n",
    "    </country>\n",
    "</data>\n",
    "\"\"\"\n"
   ]
  },
  {
   "cell_type": "code",
   "execution_count": 3,
   "metadata": {},
   "outputs": [
    {
     "data": {
      "text/plain": [
       "'data'"
      ]
     },
     "execution_count": 3,
     "metadata": {},
     "output_type": "execute_result"
    }
   ],
   "source": [
    "root = ET.fromstring(xml_str) # xml 문자열을 파싱한다.\n",
    "root.tag # 이 xml 데이터의 최상위 태그를 출력한다."
   ]
  },
  {
   "cell_type": "code",
   "execution_count": 4,
   "metadata": {},
   "outputs": [
    {
     "data": {
      "text/plain": [
       "<Element 'country' at 0x104849548>"
      ]
     },
     "execution_count": 4,
     "metadata": {},
     "output_type": "execute_result"
    }
   ],
   "source": [
    "root[0] # 0번째 자식 노드의 성분"
   ]
  },
  {
   "cell_type": "code",
   "execution_count": 5,
   "metadata": {},
   "outputs": [
    {
     "data": {
      "text/plain": [
       "[<Element 'country' at 0x104849548>,\n",
       " <Element 'country' at 0x104863278>,\n",
       " <Element 'country' at 0x104863408>]"
      ]
     },
     "execution_count": 5,
     "metadata": {},
     "output_type": "execute_result"
    }
   ],
   "source": [
    "root.getchildren() # 이 노드의 자식 노드를 반환한다."
   ]
  },
  {
   "cell_type": "code",
   "execution_count": 6,
   "metadata": {},
   "outputs": [],
   "source": [
    "del root[0] # 0번째 자식 노드를 삭제한다.\n",
    "modified_xml_str = ET.tostring(root) # 편집이 끝난 xml객체를 문자열로 변환한다."
   ]
  },
  {
   "cell_type": "code",
   "execution_count": 13,
   "metadata": {},
   "outputs": [
    {
     "name": "stdout",
     "output_type": "stream",
     "text": [
      "<data>\n",
      "    <country name=\"Singapore\">\n",
      "        <rank>4</rank>\n",
      "        <year>2011</year>\n",
      "        <gdppc>59900</gdppc>\n",
      "        <neighbor direction=\"N\" name=\"Malaysia\" />\n",
      "    </country>\n",
      "    <country name=\"Panama\">\n",
      "        <rank>68</rank>\n",
      "        <year>2011</year>\n",
      "        <gdppc>13600</gdppc>\n",
      "        <neighbor direction=\"W\" name=\"Costa Rica\" />\n",
      "        <neighbor direction=\"E\" name=\"Colombia\" />\n",
      "    </country>\n",
      "</data>\n"
     ]
    }
   ],
   "source": [
    "print(modified_xml_str.decode('utf-8'))"
   ]
  },
  {
   "cell_type": "markdown",
   "metadata": {},
   "source": [
    "# 12.5"
   ]
  },
  {
   "cell_type": "code",
   "execution_count": 30,
   "metadata": {},
   "outputs": [
    {
     "name": "stdout",
     "output_type": "stream",
     "text": [
      "이 문서에는 49개의 링크가 존재합니다.\n"
     ]
    },
    {
     "name": "stderr",
     "output_type": "stream",
     "text": [
      "/Library/Frameworks/Python.framework/Versions/3.4/lib/python3.4/site-packages/ipykernel_launcher.py:13: DeprecationWarning: The value of convert_charrefs will become True in 3.5. You are encouraged to set the value explicitly.\n",
      "  del sys.path[0]\n"
     ]
    }
   ],
   "source": [
    "from html.parser import HTMLParser\n",
    "import urllib.request\n",
    "\n",
    "TOPIC = \"Dangiwa_Umar\"\n",
    "url = \"https://en.wikipedia.org/wiki/%s\" % TOPIC\n",
    "\n",
    "\n",
    "class LinkCountingParser(HTMLParser):  \n",
    "    def __init__(self):\n",
    "        '''HTMLParser를 상속한 클래스를 정의한다'''\n",
    "        self.in_paragraph = False\n",
    "        self.link_count = 0\n",
    "        HTMLParser.__init__(self)\n",
    "\n",
    "    def handle_starttag(self, tag, attrs):\n",
    "        '''시작 태그를 처리하는 방법을 정의한다'''\n",
    "        if tag == 'p':\n",
    "            self.in_paragraph = True\n",
    "        elif tag == 'a' and self.in_paragraph:\n",
    "            self.link_count += 1\n",
    "\n",
    "    def handle_endtag(self, tag):\n",
    "        '''종료 태그를 처리하는 방법을 정의한다'''\n",
    "        if tag == 'p': self.in_paragraph = False\n",
    "\n",
    "\n",
    "html = urllib.request.urlopen(url).read()  # url에 해당하는 html을 읽어온다.\n",
    "html = html.decode('utf-8')\n",
    "parser = LinkCountingParser()  # 클래스 인스턴스를 만든다.\n",
    "parser.feed(html)  # 읽어온 html을 입력으로 넣는다.\n",
    "print(\"이 문서에는 %d개의 링크가 존재합니다.\" % parser.link_count)\n"
   ]
  },
  {
   "cell_type": "code",
   "execution_count": null,
   "metadata": {},
   "outputs": [],
   "source": []
  }
 ],
 "metadata": {
  "kernelspec": {
   "display_name": "Python 3",
   "language": "python",
   "name": "python3"
  },
  "language_info": {
   "codemirror_mode": {
    "name": "ipython",
    "version": 3
   },
   "file_extension": ".py",
   "mimetype": "text/x-python",
   "name": "python",
   "nbconvert_exporter": "python",
   "pygments_lexer": "ipython3",
   "version": "3.4.2"
  }
 },
 "nbformat": 4,
 "nbformat_minor": 2
}
